{
 "cells": [
  {
   "cell_type": "code",
   "id": "initial_id",
   "metadata": {
    "collapsed": true,
    "ExecuteTime": {
     "end_time": "2024-11-09T11:29:44.578494Z",
     "start_time": "2024-11-09T11:29:44.573519Z"
    }
   },
   "source": [
    "import json\n",
    "\n",
    "# Load existing data\n",
    "with open(\"Final_Data_Symptom_Analysis.json\", \"r\") as file:\n",
    "    existing_data = json.load(file)"
   ],
   "outputs": [],
   "execution_count": 1
  },
  {
   "metadata": {
    "ExecuteTime": {
     "end_time": "2024-11-09T11:32:30.729204Z",
     "start_time": "2024-11-09T11:32:30.723255Z"
    }
   },
   "cell_type": "code",
   "source": [
    "new_diseases = [\n",
    "    {\n",
    "        \"disease\": \"Dengue Fever\",\n",
    "        \"symptoms\": [\"High fever\", \"Severe headache\", \"Pain behind the eyes\", \"Joint and muscle pain\", \"Rash\", \"Mild bleeding (e.g., nose or gums)\"]\n",
    "    },\n",
    "    {\n",
    "        \"disease\": \"Malaria\",\n",
    "        \"symptoms\": [\"Fever\", \"Chills\", \"Headache\", \"Nausea and vomiting\", \"Muscle pain\", \"Fatigue\", \"Sweating\"]\n",
    "    },\n",
    "    {\n",
    "        \"disease\": \"Tuberculosis\",\n",
    "        \"symptoms\": [\"Persistent cough (lasting more than three weeks)\", \"Chest pain\", \"Coughing up blood\", \"Fatigue\", \"Weight loss\", \"Fever\", \"Night sweats\"]\n",
    "    },\n",
    "    {\n",
    "        \"disease\": \"Typhoid Fever\",\n",
    "        \"symptoms\": [\"Sustained high fever\", \"Weakness\", \"Stomach pain\", \"Headache\", \"Loss of appetite\", \"Sometimes a rash\"]\n",
    "    },\n",
    "    {\n",
    "        \"disease\": \"Cholera\",\n",
    "        \"symptoms\": [\"Severe watery diarrhea\", \"Vomiting\", \"Leg cramps\", \"Rapid loss of body fluids leading to dehydration and shock\"]\n",
    "    },\n",
    "    {\n",
    "        \"disease\": \"Hepatitis A\",\n",
    "        \"symptoms\": [\"Fatigue\", \"Sudden nausea and vomiting\", \"Abdominal pain or discomfort\", \"Clay-colored bowel movements\", \"Loss of appetite\", \"Low-grade fever\", \"Dark urine\", \"Joint pain\", \"Yellowing of the skin and eyes (jaundice)\"]\n",
    "    },\n",
    "    {\n",
    "        \"disease\": \"Leprosy (Hansen's Disease)\",\n",
    "        \"symptoms\": [\"Skin lesions that may be faded/discolored\", \"Growths on the skin\", \"Thick, stiff or dry skin\", \"Severe pain\", \"Numbness on affected areas of the skin\", \"Muscle weakness or paralysis (especially in the hands and feet)\", \"Eye problems that may lead to blindness\"]\n",
    "    },\n",
    "    {\n",
    "        \"disease\": \"Japanese Encephalitis\",\n",
    "        \"symptoms\": [\"Fever\", \"Headache\", \"Vomiting\", \"Confusion\", \"Seizures\", \"Movement disorders\"]\n",
    "    },\n",
    "    {\n",
    "        \"disease\": \"Kala-Azar (Visceral Leishmaniasis)\",\n",
    "        \"symptoms\": [\"Fever\", \"Weight loss\", \"Enlargement of the spleen and liver\", \"Anemia\", \"Leukopenia\", \"Thrombocytopenia\"]\n",
    "    },\n",
    "    {\n",
    "        \"disease\": \"Filariasis\",\n",
    "        \"symptoms\": [\"Lymphedema (tissue swelling)\", \"Elephantiasis (skin/tissue thickening)\", \"Scrotal swelling\"]\n",
    "    }\n",
    "]"
   ],
   "id": "d4a485f87e2dea24",
   "outputs": [],
   "execution_count": 6
  },
  {
   "metadata": {
    "ExecuteTime": {
     "end_time": "2024-11-09T11:32:31.091463Z",
     "start_time": "2024-11-09T11:32:31.088976Z"
    }
   },
   "cell_type": "code",
   "source": [
    "# Append new diseases to existing data\n",
    "existing_data.extend(new_diseases)"
   ],
   "id": "8083f5308b8a239",
   "outputs": [],
   "execution_count": 7
  },
  {
   "metadata": {
    "ExecuteTime": {
     "end_time": "2024-11-09T11:32:31.434431Z",
     "start_time": "2024-11-09T11:32:31.428725Z"
    }
   },
   "cell_type": "code",
   "source": [
    "# Save updated data back to JSON file\n",
    "with open(\"Final_Data_Symptom_Analysis.json\", \"w\") as file:\n",
    "    json.dump(existing_data, file, indent=4)"
   ],
   "id": "4f5458f9ad72a07e",
   "outputs": [],
   "execution_count": 8
  },
  {
   "metadata": {
    "ExecuteTime": {
     "end_time": "2024-11-09T11:34:06.741450Z",
     "start_time": "2024-11-09T11:34:06.735238Z"
    }
   },
   "cell_type": "code",
   "source": [
    "import json\n",
    "from collections import Counter\n",
    "\n",
    "# Load the JSON data\n",
    "with open(\"Final_Data_Symptom_Analysis.json\", \"r\") as file:\n",
    "    data = json.load(file)\n",
    "\n",
    "# Count occurrences of each disease\n",
    "disease_counts = Counter(entry[\"disease\"] for entry in data)\n",
    "\n",
    "# Find and print duplicates\n",
    "duplicates = [disease for disease, count in disease_counts.items() if count > 1]\n",
    "if duplicates:\n",
    "    print(\"Duplicate diseases found:\", duplicates)\n",
    "else:\n",
    "    print(\"No duplicate diseases found.\")"
   ],
   "id": "91920dc3e00ba404",
   "outputs": [
    {
     "name": "stdout",
     "output_type": "stream",
     "text": [
      "Duplicate diseases found: ['Fungal infection', 'Allergy', 'GERD', 'Chronic cholestasis', 'Drug Reaction', 'Peptic ulcer diseae', 'AIDS', 'Diabetes ', 'Gastroenteritis', 'Bronchial Asthma', 'Hypertension ', 'Migraine', 'Cervical spondylosis', 'Paralysis (brain hemorrhage)', 'Jaundice', 'Malaria', 'Chicken pox', 'Dengue', 'Typhoid', 'hepatitis A', 'Hepatitis B', 'Hepatitis C', 'Hepatitis D', 'Hepatitis E', 'Alcoholic hepatitis', 'Tuberculosis', 'Common Cold', 'Pneumonia', 'Dimorphic hemmorhoids(piles)', 'Heart attack', 'Varicose veins', 'Hypothyroidism', 'Hyperthyroidism', 'Hypoglycemia', 'Osteoarthristis', 'Arthritis', '(vertigo) Paroymsal  Positional Vertigo', 'Acne', 'Urinary tract infection', 'Psoriasis', 'Impetigo', 'Fungal Infection', 'Chronic Cholestasis', 'Peptic Ulcer Disease', 'Cervical Spondylosis', 'Chickenpox', 'Hepatitis A', 'Alcoholic Hepatitis', 'Dimorphic Hemmorhoids (piles)', 'Heart Attack', 'Varicose Veins', 'Osteoarthritis', 'Vertigo', 'Urinary Tract Infection']\n"
     ]
    }
   ],
   "execution_count": 12
  },
  {
   "metadata": {},
   "cell_type": "code",
   "outputs": [],
   "execution_count": null,
   "source": "",
   "id": "67fe24a6c26a231a"
  }
 ],
 "metadata": {
  "kernelspec": {
   "display_name": "Python 3",
   "language": "python",
   "name": "python3"
  },
  "language_info": {
   "codemirror_mode": {
    "name": "ipython",
    "version": 2
   },
   "file_extension": ".py",
   "mimetype": "text/x-python",
   "name": "python",
   "nbconvert_exporter": "python",
   "pygments_lexer": "ipython2",
   "version": "2.7.6"
  }
 },
 "nbformat": 4,
 "nbformat_minor": 5
}
